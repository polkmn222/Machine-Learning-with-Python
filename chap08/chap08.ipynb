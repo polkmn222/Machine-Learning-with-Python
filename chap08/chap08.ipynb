{
 "cells": [
  {
   "cell_type": "code",
   "execution_count": 1,
   "metadata": {},
   "outputs": [],
   "source": [
    "# 노트북이 코랩에서 실행 중인지 체크합니다.\n",
    "import os\n",
    "import sys\n",
    "if 'google.colab' in sys.modules:\n",
    "    # 사이킷런 최신 버전을 설치합니다.\n",
    "    !pip install -q --upgrade scikit-learn"
   ]
  },
  {
   "cell_type": "markdown",
   "metadata": {},
   "source": [
    "### 나만의 추정기 만들기"
   ]
  },
  {
   "cell_type": "code",
   "execution_count": 2,
   "metadata": {},
   "outputs": [],
   "source": [
    "from sklearn.base import BaseEstimator, TransformerMixin\n",
    "\n",
    "class MyTransformer(BaseEstimator, TransformerMixin):\n",
    "    def __init__(self, first_paramter=1, second_parameter=2):\n",
    "        # __init__ 메소드에 필요한 모든 매개변수를 나열합니다\n",
    "        self.first_paramter = 1\n",
    "        self.second_parameter = 2\n",
    "        \n",
    "    def fit(self, X, y=None):\n",
    "        # fit 메소드는 X와 y 매개변수만을 갖습니다\n",
    "        # 비지도 학습 모델이더라도 y 매개변수를 받도록 해야합니다!\n",
    "        \n",
    "        # 모델 학습 시작\n",
    "        print(\"모델 학습을 시작합니다\")\n",
    "        # 객체 자신인 self를 반환합니다\n",
    "        return self\n",
    "    \n",
    "    def transform(self, X):\n",
    "        # transform 메소드는 X 매개변수만을 받습니다\n",
    "        \n",
    "        # X를 변환합니다\n",
    "        X_transformed = X + 1\n",
    "        return X_transformed"
   ]
  }
 ],
 "metadata": {
  "anaconda-cloud": {},
  "kernelspec": {
   "display_name": "Python 3 (ipykernel)",
   "language": "python",
   "name": "python3"
  },
  "language_info": {
   "codemirror_mode": {
    "name": "ipython",
    "version": 3
   },
   "file_extension": ".py",
   "mimetype": "text/x-python",
   "name": "python",
   "nbconvert_exporter": "python",
   "pygments_lexer": "ipython3",
   "version": "3.9.7"
  }
 },
 "nbformat": 4,
 "nbformat_minor": 1
}
